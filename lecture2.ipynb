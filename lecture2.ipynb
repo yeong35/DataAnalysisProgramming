{
 "cells": [
  {
   "cell_type": "code",
   "execution_count": 1,
   "metadata": {
    "id": "HNPNzCabLo7S"
   },
   "outputs": [],
   "source": [
    "import numpy as np\n",
    "import pandas as pd\n",
    "\n",
    "np.random.seed(0)"
   ]
  },
  {
   "cell_type": "markdown",
   "metadata": {
    "id": "7BZpwooJxpkj"
   },
   "source": [
    "# NumPy Exercises!\n",
    "Complete the solution code to have a desired output.\n",
    "\n",
    "**[Caution!]** Not allow to use iteration, such as for-loop.\n",
    "\n",
    "\n",
    "\n"
   ]
  },
  {
   "cell_type": "markdown",
   "metadata": {
    "id": "kXhonLDSK0_j"
   },
   "source": [
    "### 1. Create a 4×4 numpy array of all True boolean’s "
   ]
  },
  {
   "cell_type": "code",
   "execution_count": 2,
   "metadata": {
    "colab": {
     "base_uri": "https://localhost:8080/"
    },
    "id": "wM9StYWNK0Xr",
    "outputId": "6c6daf76-dabe-48fe-f230-425a2183092e"
   },
   "outputs": [
    {
     "name": "stdout",
     "output_type": "stream",
     "text": [
      "[[ True  True  True  True]\n",
      " [ True  True  True  True]\n",
      " [ True  True  True  True]\n",
      " [ True  True  True  True]]\n"
     ]
    }
   ],
   "source": [
    "# Input\n",
    "arr_size = (4, 4)\n",
    "\n",
    "# Solution\n",
    "bool_arr = np.full(arr_size, True, dtype=bool)\n",
    "\n",
    "# Print\n",
    "print(bool_arr)"
   ]
  },
  {
   "cell_type": "markdown",
   "metadata": {
    "id": "pCTPSJIyMFAu"
   },
   "source": [
    "### 2. Extract all odd numbers from given `arr`"
   ]
  },
  {
   "cell_type": "code",
   "execution_count": 3,
   "metadata": {},
   "outputs": [
    {
     "name": "stdout",
     "output_type": "stream",
     "text": [
      "[ 1  3  5  7  9 11 13 15 17 19 21 23 25 27 29]\n"
     ]
    }
   ],
   "source": [
    "# Input\n",
    "arr = np.arange(30)\n",
    "\n",
    "# Solution\n",
    "arr = arr[arr%2==1]\n",
    "\n",
    "# Print\n",
    "print(arr)"
   ]
  },
  {
   "cell_type": "markdown",
   "metadata": {
    "id": "OAanUPrlNj-N"
   },
   "source": [
    "### 3. Get the positions where elements of `a` and `b` match\n",
    "(hint, refer [np.where](https://numpy.org/doc/stable/reference/generated/numpy.where.html).)\n",
    "\n"
   ]
  },
  {
   "cell_type": "code",
   "execution_count": 4,
   "metadata": {},
   "outputs": [
    {
     "name": "stdout",
     "output_type": "stream",
     "text": [
      "(array([1, 3, 5, 7]),)\n"
     ]
    }
   ],
   "source": [
    "# Input\n",
    "a = np.array([1, 2, 3, 2, 3, 4, 3, 4, 5, 6])\n",
    "b = np.array([7, 2, 10, 2, 7, 4, 9, 4, 9, 8])\n",
    "\n",
    "# Solution\n",
    "idx = np.where(a==b)\n",
    "\n",
    "# Print\n",
    "print(idx)"
   ]
  },
  {
   "cell_type": "markdown",
   "metadata": {
    "id": "Golu0NHiZNq3"
   },
   "source": [
    "### 4. Find the mean, median, standard deviation of iris's `sepallength` (1st column)."
   ]
  },
  {
   "cell_type": "markdown",
   "metadata": {
    "id": "5M15AZWHbrQC"
   },
   "source": []
  },
  {
   "cell_type": "code",
   "execution_count": 5,
   "metadata": {},
   "outputs": [
    {
     "name": "stdout",
     "output_type": "stream",
     "text": [
      "5.843333333333334 5.8 0.8253012917851409\n"
     ]
    }
   ],
   "source": [
    "# Input\n",
    "url = 'https://archive.ics.uci.edu/ml/machine-learning-databases/iris/iris.data'\n",
    "iris = np.genfromtxt(url, delimiter=',', dtype='object')\n",
    "sepallength = np.genfromtxt(url, delimiter=',', dtype='float', usecols=[0])\n",
    "\n",
    "mu, med, std = np.mean(sepallength), np.median(sepallength), np.std(sepallength)\n",
    "\n",
    "print(mu, med, std)"
   ]
  },
  {
   "cell_type": "markdown",
   "metadata": {
    "id": "RIFj650ubDpr"
   },
   "source": [
    "### 5. Find the duplicate entries (2nd occurrence onwards) in the given numpy array and mark them as True. First time occurrences should be False.\n",
    "(hint, refer [np.unique](https://numpy.org/doc/stable/reference/generated/numpy.unique.html).)"
   ]
  },
  {
   "cell_type": "code",
   "execution_count": 6,
   "metadata": {},
   "outputs": [
    {
     "name": "stdout",
     "output_type": "stream",
     "text": [
      "Array:  [0 0 3 0 2 4 2 2 2 2]\n",
      "Duplicate entrie:  [False  True False  True False False  True  True  True  True]\n"
     ]
    }
   ],
   "source": [
    "# Input\n",
    "np.random.seed(100)\n",
    "a = np.random.randint(0, 5, 10)\n",
    "print('Array: ', a)\n",
    "\n",
    "# Solution\n",
    "## Create an all True array\n",
    "out = np.full(a.size, True, dtype=bool)\n",
    "\n",
    "## Find the index positions of unique elements\n",
    "_, unique_positions = np.unique(a, return_index=True)\n",
    "\n",
    "## Mark those positions as False\n",
    "out[unique_positions] = False\n",
    "\n",
    "print('Duplicate entrie: ', out)"
   ]
  },
  {
   "cell_type": "markdown",
   "metadata": {
    "id": "Yx8npG2qeCCH"
   },
   "source": [
    "# Pandas Exercises!\n",
    "Complete the solution code to have a desired output. \n",
    "\n",
    "\n",
    "\n"
   ]
  },
  {
   "cell_type": "markdown",
   "metadata": {
    "id": "AF3TdV0ZepwD"
   },
   "source": [
    "### 6. Combine `ser1` and `ser2` to form a dataframe."
   ]
  },
  {
   "cell_type": "code",
   "execution_count": 7,
   "metadata": {},
   "outputs": [
    {
     "name": "stdout",
     "output_type": "stream",
     "text": [
      "  col1  col2\n",
      "0    a     0\n",
      "1    b     1\n",
      "2    c     2\n",
      "3    e     3\n",
      "4    d     4\n"
     ]
    }
   ],
   "source": [
    "# Input\n",
    "ser1 = pd.Series(list('abcedfghijklmnopqrstuvwxyz'))\n",
    "ser2 = pd.Series(np.arange(26))\n",
    "\n",
    "# Solution \n",
    "df = pd.DataFrame({'col1':ser1[:5], 'col2':ser2[:5]})\n",
    "\n",
    "# Print\n",
    "print(df.head())"
   ]
  },
  {
   "cell_type": "markdown",
   "metadata": {
    "id": "b6JSzVmsi6fo"
   },
   "source": [
    "### 7. Check if `df` has any missing values."
   ]
  },
  {
   "cell_type": "code",
   "execution_count": 8,
   "metadata": {
    "colab": {
     "base_uri": "https://localhost:8080/"
    },
    "id": "dhqka6BNi8wF",
    "outputId": "6b7d1a29-5ec9-4055-e35d-f9a4baee7c1a"
   },
   "outputs": [
    {
     "name": "stdout",
     "output_type": "stream",
     "text": [
      "  Manufacturer    Model     Type  Min.Price  Price  Max.Price  MPG.city  \\\n",
      "0        Acura  Integra    Small       12.9   15.9       18.8      25.0   \n",
      "1          NaN   Legend  Midsize       29.2   33.9       38.7      18.0   \n",
      "2         Audi       90  Compact       25.9   29.1       32.3      20.0   \n",
      "3         Audi      100  Midsize        NaN   37.7       44.6      19.0   \n",
      "4          BMW     535i  Midsize        NaN   30.0        NaN      22.0   \n",
      "\n",
      "   MPG.highway             AirBags DriveTrain  ... Passengers  Length  \\\n",
      "0         31.0                None      Front  ...        5.0   177.0   \n",
      "1         25.0  Driver & Passenger      Front  ...        5.0   195.0   \n",
      "2         26.0         Driver only      Front  ...        5.0   180.0   \n",
      "3         26.0  Driver & Passenger        NaN  ...        6.0   193.0   \n",
      "4         30.0                 NaN       Rear  ...        4.0   186.0   \n",
      "\n",
      "   Wheelbase  Width  Turn.circle Rear.seat.room  Luggage.room  Weight  \\\n",
      "0      102.0   68.0         37.0           26.5           NaN  2705.0   \n",
      "1      115.0   71.0         38.0           30.0          15.0  3560.0   \n",
      "2      102.0   67.0         37.0           28.0          14.0  3375.0   \n",
      "3      106.0    NaN         37.0           31.0          17.0  3405.0   \n",
      "4      109.0   69.0         39.0           27.0          13.0  3640.0   \n",
      "\n",
      "    Origin           Make  \n",
      "0  non-USA  Acura Integra  \n",
      "1  non-USA   Acura Legend  \n",
      "2  non-USA        Audi 90  \n",
      "3  non-USA       Audi 100  \n",
      "4  non-USA       BMW 535i  \n",
      "\n",
      "[5 rows x 27 columns]\n",
      "\n",
      "Is there any missing value?: True\n"
     ]
    }
   ],
   "source": [
    "# Input\n",
    "df = pd.read_csv('https://raw.githubusercontent.com/selva86/datasets/master/Cars93_miss.csv')\n",
    "print(df.head())\n",
    "\n",
    "# Solution\n",
    "print('\\nIs there any missing value?:', df.isnull().sum().sum()>0);"
   ]
  },
  {
   "cell_type": "markdown",
   "metadata": {
    "id": "0jhPg-fJff9y"
   },
   "source": [
    "### 8. Create a TimeSeries starting `2021-01-01` and 10 weekends (sundays) after that **having** random numbers as values?"
   ]
  },
  {
   "cell_type": "code",
   "execution_count": 9,
   "metadata": {},
   "outputs": [
    {
     "name": "stdout",
     "output_type": "stream",
     "text": [
      "0   2021-01-03\n",
      "1   2021-01-10\n",
      "2   2021-01-17\n",
      "3   2021-01-24\n",
      "4   2021-01-31\n",
      "5   2021-02-07\n",
      "6   2021-02-14\n",
      "7   2021-02-21\n",
      "8   2021-02-28\n",
      "9   2021-03-07\n",
      "dtype: datetime64[ns]\n"
     ]
    }
   ],
   "source": [
    "# Solution\n",
    "ser = pd.Series(pd.date_range('01-01-2021', periods=10, freq='W-SUN'))\n",
    "print(ser)"
   ]
  },
  {
   "cell_type": "markdown",
   "metadata": {
    "id": "P1-wKPtmkcxe"
   },
   "source": [
    "### 9. In `df`, compute the mean price of every fruit using grouping function."
   ]
  },
  {
   "cell_type": "code",
   "execution_count": 10,
   "metadata": {},
   "outputs": [
    {
     "name": "stdout",
     "output_type": "stream",
     "text": [
      "fruit\n",
      "apple     5.000000\n",
      "banana    9.333333\n",
      "orange    4.000000\n",
      "Name: price, dtype: float64\n"
     ]
    }
   ],
   "source": [
    "# Input\n",
    "df = pd.DataFrame({'fruit': ['apple', 'banana', 'orange'] * 3,\n",
    "                   'rating': np.random.rand(9),\n",
    "                   'price': np.random.randint(0, 15, 9)})\n",
    "\n",
    "# Solution\n",
    "out = df.groupby('fruit')['price'].mean()\n",
    "print(out)"
   ]
  },
  {
   "cell_type": "markdown",
   "metadata": {
    "id": "ZSInSrZWldXS"
   },
   "source": [
    "### 10. Join two dataframes `df1` and `df2` for intersection items on `use_id`.\n",
    "For `df2`, please select only `use_id`, `platform`, `device` columns not all columns for merging."
   ]
  },
  {
   "cell_type": "code",
   "execution_count": 11,
   "metadata": {},
   "outputs": [
    {
     "data": {
      "text/html": [
       "<div>\n",
       "<style scoped>\n",
       "    .dataframe tbody tr th:only-of-type {\n",
       "        vertical-align: middle;\n",
       "    }\n",
       "\n",
       "    .dataframe tbody tr th {\n",
       "        vertical-align: top;\n",
       "    }\n",
       "\n",
       "    .dataframe thead th {\n",
       "        text-align: right;\n",
       "    }\n",
       "</style>\n",
       "<table border=\"1\" class=\"dataframe\">\n",
       "  <thead>\n",
       "    <tr style=\"text-align: right;\">\n",
       "      <th></th>\n",
       "      <th>outgoing_mins_per_month</th>\n",
       "      <th>outgoing_sms_per_month</th>\n",
       "      <th>monthly_mb</th>\n",
       "      <th>use_id</th>\n",
       "      <th>platform</th>\n",
       "      <th>device</th>\n",
       "    </tr>\n",
       "  </thead>\n",
       "  <tbody>\n",
       "    <tr>\n",
       "      <th>0</th>\n",
       "      <td>21.97</td>\n",
       "      <td>4.82</td>\n",
       "      <td>1557.33</td>\n",
       "      <td>22787</td>\n",
       "      <td>android</td>\n",
       "      <td>GT-I9505</td>\n",
       "    </tr>\n",
       "    <tr>\n",
       "      <th>1</th>\n",
       "      <td>1710.08</td>\n",
       "      <td>136.88</td>\n",
       "      <td>7267.55</td>\n",
       "      <td>22788</td>\n",
       "      <td>android</td>\n",
       "      <td>SM-G930F</td>\n",
       "    </tr>\n",
       "    <tr>\n",
       "      <th>2</th>\n",
       "      <td>1710.08</td>\n",
       "      <td>136.88</td>\n",
       "      <td>7267.55</td>\n",
       "      <td>22789</td>\n",
       "      <td>android</td>\n",
       "      <td>SM-G930F</td>\n",
       "    </tr>\n",
       "    <tr>\n",
       "      <th>3</th>\n",
       "      <td>94.46</td>\n",
       "      <td>35.17</td>\n",
       "      <td>519.12</td>\n",
       "      <td>22790</td>\n",
       "      <td>android</td>\n",
       "      <td>D2303</td>\n",
       "    </tr>\n",
       "    <tr>\n",
       "      <th>4</th>\n",
       "      <td>71.59</td>\n",
       "      <td>79.26</td>\n",
       "      <td>1557.33</td>\n",
       "      <td>22792</td>\n",
       "      <td>android</td>\n",
       "      <td>SM-G361F</td>\n",
       "    </tr>\n",
       "    <tr>\n",
       "      <th>...</th>\n",
       "      <td>...</td>\n",
       "      <td>...</td>\n",
       "      <td>...</td>\n",
       "      <td>...</td>\n",
       "      <td>...</td>\n",
       "      <td>...</td>\n",
       "    </tr>\n",
       "    <tr>\n",
       "      <th>154</th>\n",
       "      <td>198.59</td>\n",
       "      <td>90.49</td>\n",
       "      <td>5191.12</td>\n",
       "      <td>23043</td>\n",
       "      <td>android</td>\n",
       "      <td>SM-G900F</td>\n",
       "    </tr>\n",
       "    <tr>\n",
       "      <th>155</th>\n",
       "      <td>198.59</td>\n",
       "      <td>90.49</td>\n",
       "      <td>3114.67</td>\n",
       "      <td>23044</td>\n",
       "      <td>android</td>\n",
       "      <td>SM-G900F</td>\n",
       "    </tr>\n",
       "    <tr>\n",
       "      <th>156</th>\n",
       "      <td>106.65</td>\n",
       "      <td>82.13</td>\n",
       "      <td>5191.12</td>\n",
       "      <td>23046</td>\n",
       "      <td>android</td>\n",
       "      <td>Moto G (4)</td>\n",
       "    </tr>\n",
       "    <tr>\n",
       "      <th>157</th>\n",
       "      <td>344.53</td>\n",
       "      <td>20.53</td>\n",
       "      <td>519.12</td>\n",
       "      <td>23049</td>\n",
       "      <td>android</td>\n",
       "      <td>SM-G900F</td>\n",
       "    </tr>\n",
       "    <tr>\n",
       "      <th>158</th>\n",
       "      <td>42.75</td>\n",
       "      <td>46.83</td>\n",
       "      <td>5191.12</td>\n",
       "      <td>23053</td>\n",
       "      <td>android</td>\n",
       "      <td>Vodafone Smart ultra 6</td>\n",
       "    </tr>\n",
       "  </tbody>\n",
       "</table>\n",
       "<p>159 rows × 6 columns</p>\n",
       "</div>"
      ],
      "text/plain": [
       "     outgoing_mins_per_month  outgoing_sms_per_month  monthly_mb  use_id  \\\n",
       "0                      21.97                    4.82     1557.33   22787   \n",
       "1                    1710.08                  136.88     7267.55   22788   \n",
       "2                    1710.08                  136.88     7267.55   22789   \n",
       "3                      94.46                   35.17      519.12   22790   \n",
       "4                      71.59                   79.26     1557.33   22792   \n",
       "..                       ...                     ...         ...     ...   \n",
       "154                   198.59                   90.49     5191.12   23043   \n",
       "155                   198.59                   90.49     3114.67   23044   \n",
       "156                   106.65                   82.13     5191.12   23046   \n",
       "157                   344.53                   20.53      519.12   23049   \n",
       "158                    42.75                   46.83     5191.12   23053   \n",
       "\n",
       "    platform                  device  \n",
       "0    android                GT-I9505  \n",
       "1    android                SM-G930F  \n",
       "2    android                SM-G930F  \n",
       "3    android                   D2303  \n",
       "4    android                SM-G361F  \n",
       "..       ...                     ...  \n",
       "154  android                SM-G900F  \n",
       "155  android                SM-G900F  \n",
       "156  android              Moto G (4)  \n",
       "157  android                SM-G900F  \n",
       "158  android  Vodafone Smart ultra 6  \n",
       "\n",
       "[159 rows x 6 columns]"
      ]
     },
     "execution_count": 11,
     "metadata": {},
     "output_type": "execute_result"
    }
   ],
   "source": [
    "# Input\n",
    "base_path = 'https://raw.githubusercontent.com/shanealynn/Pandas-Merge-Tutorial/master/'\n",
    "df1 = pd.read_csv(base_path + 'user_usage.csv')\n",
    "df2 = pd.read_csv(base_path + 'user_device.csv')\n",
    "\n",
    "# Solution\n",
    "pd.merge(df1, df2[['use_id', 'platform', 'device']], on='use_id', how='inner')"
   ]
  },
  {
   "cell_type": "code",
   "execution_count": null,
   "metadata": {},
   "outputs": [],
   "source": []
  }
 ],
 "metadata": {
  "colab": {
   "collapsed_sections": [],
   "name": "lecture2.ipynb",
   "provenance": []
  },
  "kernelspec": {
   "display_name": "Python 3 (ipykernel)",
   "language": "python",
   "name": "python3"
  },
  "language_info": {
   "codemirror_mode": {
    "name": "ipython",
    "version": 3
   },
   "file_extension": ".py",
   "mimetype": "text/x-python",
   "name": "python",
   "nbconvert_exporter": "python",
   "pygments_lexer": "ipython3",
   "version": "3.8.8"
  }
 },
 "nbformat": 4,
 "nbformat_minor": 4
}
