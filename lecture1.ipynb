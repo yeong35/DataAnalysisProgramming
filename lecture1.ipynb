{
 "cells": [
  {
   "cell_type": "code",
   "execution_count": 1,
   "id": "0ee70bd6-c6b7-4ce4-b23a-a3abb1413c8b",
   "metadata": {},
   "outputs": [],
   "source": [
    "import numpy as np\n",
    "import pandas as pd\n",
    "import scipy\n",
    "import matplotlib as mlp\n",
    "import seaborn as sns\n",
    "import sklearn as sk"
   ]
  },
  {
   "cell_type": "code",
   "execution_count": 3,
   "id": "7b21cd1e-774d-45bf-ad00-56e32357da6b",
   "metadata": {},
   "outputs": [
    {
     "name": "stdout",
     "output_type": "stream",
     "text": [
      "numpy version version: 1.20.1\n",
      "pandas version version: 1.2.4\n",
      "scipy version version: 1.6.2\n",
      "matplotlib version version: 3.3.4\n",
      "seaborn version version: 0.11.1\n",
      "sklearn version version: 0.24.1\n"
     ]
    }
   ],
   "source": [
    "print(f'numpy version version: {np.__version__}')\n",
    "print(f'pandas version version: {pd.__version__}')\n",
    "print(f'scipy version version: {scipy.__version__}')\n",
    "print(f'matplotlib version version: {mlp.__version__}')\n",
    "print(f'seaborn version version: {sns.__version__}')\n",
    "print(f'sklearn version version: {sk.__version__}')"
   ]
  },
  {
   "cell_type": "code",
   "execution_count": null,
   "id": "23c209c3-45a0-40b9-9568-166c72d5e5ae",
   "metadata": {},
   "outputs": [],
   "source": []
  }
 ],
 "metadata": {
  "kernelspec": {
   "display_name": "Python 3",
   "language": "python",
   "name": "python3"
  },
  "language_info": {
   "codemirror_mode": {
    "name": "ipython",
    "version": 3
   },
   "file_extension": ".py",
   "mimetype": "text/x-python",
   "name": "python",
   "nbconvert_exporter": "python",
   "pygments_lexer": "ipython3",
   "version": "3.8.8"
  }
 },
 "nbformat": 4,
 "nbformat_minor": 5
}
